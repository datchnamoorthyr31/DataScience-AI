{
 "cells": [
  {
   "cell_type": "code",
   "execution_count": 1,
   "id": "e790425b-06b7-4c9f-8606-87c3ccf18dbd",
   "metadata": {},
   "outputs": [
    {
     "name": "stdout",
     "output_type": "stream",
     "text": [
      "Defaulting to user installation because normal site-packages is not writeable\n",
      "Requirement already satisfied: numpy in c:\\programdata\\anaconda3\\lib\\site-packages (1.26.4)\n",
      "Note: you may need to restart the kernel to use updated packages.\n"
     ]
    }
   ],
   "source": [
    "pip install numpy"
   ]
  },
  {
   "cell_type": "code",
   "execution_count": 7,
   "id": "0d53c7e8-7eba-4dae-aa19-c3e5b11b1a04",
   "metadata": {},
   "outputs": [
    {
     "data": {
      "text/plain": [
       "'1.26.4'"
      ]
     },
     "execution_count": 7,
     "metadata": {},
     "output_type": "execute_result"
    }
   ],
   "source": [
    "np.__version__"
   ]
  },
  {
   "cell_type": "code",
   "execution_count": 2,
   "id": "bd5f21ef-822d-4b7a-ae9f-65acc7a9b81d",
   "metadata": {},
   "outputs": [],
   "source": [
    "import numpy as np"
   ]
  },
  {
   "cell_type": "code",
   "execution_count": 5,
   "id": "c6b76c2a-2fc1-4301-bedc-c9a6d300ade4",
   "metadata": {},
   "outputs": [
    {
     "name": "stdout",
     "output_type": "stream",
     "text": [
      "[1 2 3 4 5]\n"
     ]
    }
   ],
   "source": [
    "value = np.array([1,2,3,4,5])\n",
    "print(value)"
   ]
  },
  {
   "cell_type": "code",
   "execution_count": 6,
   "id": "c129f94b-e684-44cc-b704-115e16daffbc",
   "metadata": {},
   "outputs": [
    {
     "name": "stdout",
     "output_type": "stream",
     "text": [
      "<class 'numpy.ndarray'>\n"
     ]
    }
   ],
   "source": [
    "print(type(value))"
   ]
  },
  {
   "cell_type": "code",
   "execution_count": null,
   "id": "f1fd2a63-06b7-435c-bc6a-872789cf59e8",
   "metadata": {},
   "outputs": [],
   "source": [
    "# Dimensions in array \n",
    "#types of arrays \n",
    "'''  0 dimensional array\n",
    "     1 dimensional array\n",
    "     2 dimensional array\n",
    "     3 dimensional array '''"
   ]
  },
  {
   "cell_type": "code",
   "execution_count": 9,
   "id": "16a9bcf9-f012-41b3-8c6a-44a6998e547e",
   "metadata": {},
   "outputs": [
    {
     "name": "stdout",
     "output_type": "stream",
     "text": [
      "40\n",
      "0 dimensional\n"
     ]
    }
   ],
   "source": [
    "# 0 dimensional array \n",
    "import numpy as np \n",
    "a = np.array(40)\n",
    "print(a)\n",
    "print(a.ndim, \"dimensional\")"
   ]
  },
  {
   "cell_type": "code",
   "execution_count": 10,
   "id": "72da26f5-d6eb-400a-b890-5e05f36dcd17",
   "metadata": {},
   "outputs": [
    {
     "name": "stdout",
     "output_type": "stream",
     "text": [
      "[40 23 43 76 34]\n",
      "1 dimensional\n"
     ]
    }
   ],
   "source": [
    "# 1 dimensional array \n",
    "import numpy as np \n",
    "a = np.array([40,23,43,76,34])\n",
    "print(a)\n",
    "print(a.ndim, \"dimensional\")"
   ]
  },
  {
   "cell_type": "code",
   "execution_count": 11,
   "id": "c0ab8e15-aed2-44d6-b769-b31946a76cc9",
   "metadata": {},
   "outputs": [
    {
     "name": "stdout",
     "output_type": "stream",
     "text": [
      "[[40 23 43 76 34]\n",
      " [43 87 12 21 11]]\n",
      "2 dimensional\n"
     ]
    }
   ],
   "source": [
    "# 2 dimensional array \n",
    "import numpy as np \n",
    "a = np.array([[40,23,43,76,34],[43,87,12,21,11]])\n",
    "print(a)\n",
    "print(a.ndim, \"dimensional\")"
   ]
  },
  {
   "cell_type": "code",
   "execution_count": 12,
   "id": "d2a20246-811d-4ec1-b659-ed1278eafc3f",
   "metadata": {},
   "outputs": [
    {
     "name": "stdout",
     "output_type": "stream",
     "text": [
      "[[[40 23 43 76 34]\n",
      "  [43 23 67 98 12]]\n",
      "\n",
      " [[21 23 45 66 87]\n",
      "  [12 65 13 87 56]]]\n",
      "3 dimensional\n"
     ]
    }
   ],
   "source": [
    "# 3 dimensional array \n",
    "import numpy as np \n",
    "a = np.array([[[40,23,43,76,34],[43,23,67,98,12]],[[21,23,45,66,87],[12,65,13,87,56]]])\n",
    "print(a)\n",
    "print(a.ndim, \"dimensional\")"
   ]
  },
  {
   "cell_type": "code",
   "execution_count": 14,
   "id": "1998c20c-cc95-4da0-bc9a-3253d7b3f0cf",
   "metadata": {},
   "outputs": [
    {
     "name": "stdout",
     "output_type": "stream",
     "text": [
      "4\n"
     ]
    }
   ],
   "source": [
    "#array indexing \n",
    "a = np.array([2,4,6,8,10])\n",
    "print(a[1])"
   ]
  },
  {
   "cell_type": "code",
   "execution_count": 16,
   "id": "deb4ae4c-5d61-493a-a875-346d3d997df4",
   "metadata": {},
   "outputs": [
    {
     "name": "stdout",
     "output_type": "stream",
     "text": [
      "10\n"
     ]
    }
   ],
   "source": [
    "a = np.array([[2,4,6],[8,10,12]])\n",
    "print(a[1][1])"
   ]
  },
  {
   "cell_type": "code",
   "execution_count": 18,
   "id": "a74f8f99-996b-4d2c-9d63-00d4615ac8c8",
   "metadata": {},
   "outputs": [
    {
     "name": "stdout",
     "output_type": "stream",
     "text": [
      "4\n"
     ]
    }
   ],
   "source": [
    "a = np.array([[2,4,6],[8,10,12]])\n",
    "print(a[0,1])"
   ]
  },
  {
   "cell_type": "code",
   "execution_count": 21,
   "id": "0e2559db-b6ad-4115-b075-94569df998b1",
   "metadata": {},
   "outputs": [
    {
     "data": {
      "text/plain": [
       "10"
      ]
     },
     "execution_count": 21,
     "metadata": {},
     "output_type": "execute_result"
    }
   ],
   "source": [
    "d = np.array([[[4, 5],[19,22]],[[4, 5],[9,10]]])\n",
    "d[1,1,1]"
   ]
  },
  {
   "cell_type": "code",
   "execution_count": 22,
   "id": "f8c64e5c-a4a9-4ebb-898a-12a98a591542",
   "metadata": {},
   "outputs": [
    {
     "data": {
      "text/plain": [
       "22"
      ]
     },
     "execution_count": 22,
     "metadata": {},
     "output_type": "execute_result"
    }
   ],
   "source": [
    "d[0,1,1]"
   ]
  },
  {
   "cell_type": "code",
   "execution_count": 23,
   "id": "e3a9df04-a7e5-4cca-913c-c494ae737188",
   "metadata": {},
   "outputs": [
    {
     "data": {
      "text/plain": [
       "array([[ 4,  5],\n",
       "       [ 9, 10]])"
      ]
     },
     "execution_count": 23,
     "metadata": {},
     "output_type": "execute_result"
    }
   ],
   "source": [
    "d[1]"
   ]
  },
  {
   "cell_type": "code",
   "execution_count": 24,
   "id": "95b626f5-263e-42d5-a568-aae8f2af5f86",
   "metadata": {},
   "outputs": [
    {
     "data": {
      "text/plain": [
       "array([19, 22])"
      ]
     },
     "execution_count": 24,
     "metadata": {},
     "output_type": "execute_result"
    }
   ],
   "source": [
    "d[0,1]"
   ]
  },
  {
   "cell_type": "code",
   "execution_count": 25,
   "id": "0b57b50a-3a30-49ff-9c64-40798fe4776e",
   "metadata": {},
   "outputs": [
    {
     "name": "stdout",
     "output_type": "stream",
     "text": [
      "[ 2  4 56  7]\n"
     ]
    }
   ],
   "source": [
    "#array slicing\n",
    "val = np.array([2,4,56,7,7,65,32])\n",
    "print(val[0:4])"
   ]
  },
  {
   "cell_type": "code",
   "execution_count": 28,
   "id": "dca1e0e6-f879-40df-b28f-74def83dfbf1",
   "metadata": {},
   "outputs": [
    {
     "name": "stdout",
     "output_type": "stream",
     "text": [
      "[ 4 56  7  7 65 32]\n",
      "[ 4 56  7  7 65 32]\n"
     ]
    }
   ],
   "source": [
    "val = np.array([2,4,56,7,7,65,32])\n",
    "print(val[1:7])\n",
    "print(val[1:])"
   ]
  },
  {
   "cell_type": "code",
   "execution_count": 29,
   "id": "1a695c6b-0f9f-4f0c-b093-79fd8d28c84a",
   "metadata": {},
   "outputs": [
    {
     "name": "stdout",
     "output_type": "stream",
     "text": [
      "[56  7  7 65]\n"
     ]
    }
   ],
   "source": [
    "val = np.array([2,4,56,7,7,65,32])\n",
    "print(val[-5:-1])"
   ]
  },
  {
   "cell_type": "code",
   "execution_count": 30,
   "id": "f197d6d0-3eaf-4b5f-a929-7b555a57f4d8",
   "metadata": {},
   "outputs": [
    {
     "name": "stdout",
     "output_type": "stream",
     "text": [
      "[ 4 56]\n"
     ]
    }
   ],
   "source": [
    "val = np.array([[2,4,56],[7,65,32]])\n",
    "print(val[0,1:])"
   ]
  },
  {
   "cell_type": "code",
   "execution_count": null,
   "id": "21ad4a1c-db13-412a-8c7b-8e94b9f851a4",
   "metadata": {},
   "outputs": [],
   "source": []
  }
 ],
 "metadata": {
  "kernelspec": {
   "display_name": "Python 3 (ipykernel)",
   "language": "python",
   "name": "python3"
  },
  "language_info": {
   "codemirror_mode": {
    "name": "ipython",
    "version": 3
   },
   "file_extension": ".py",
   "mimetype": "text/x-python",
   "name": "python",
   "nbconvert_exporter": "python",
   "pygments_lexer": "ipython3",
   "version": "3.12.7"
  }
 },
 "nbformat": 4,
 "nbformat_minor": 5
}
