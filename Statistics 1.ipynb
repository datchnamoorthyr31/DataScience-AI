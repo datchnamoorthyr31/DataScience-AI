{
 "cells": [
  {
   "cell_type": "code",
   "execution_count": 17,
   "id": "93375749-2e1e-4861-bb3e-46652df75810",
   "metadata": {},
   "outputs": [
    {
     "name": "stdout",
     "output_type": "stream",
     "text": [
      "Mean :  30.0\n"
     ]
    }
   ],
   "source": [
    "#mean\n",
    "import numpy as np \n",
    "arr = [10,20,30,40,50]\n",
    "mean = np.mean(arr)\n",
    "print(\"Mean : \" , mean)"
   ]
  },
  {
   "cell_type": "code",
   "execution_count": 16,
   "id": "9dcfe080-e2a9-453a-b832-0a190fd60f48",
   "metadata": {},
   "outputs": [
    {
     "name": "stdout",
     "output_type": "stream",
     "text": [
      "median :  3.5\n"
     ]
    }
   ],
   "source": [
    "#median\n",
    "import numpy as np \n",
    "arr = [1,2,3,4,5,6]\n",
    "median = np.median(arr)\n",
    "print(\"median : \" , median)"
   ]
  },
  {
   "cell_type": "code",
   "execution_count": 23,
   "id": "c64992e7-588c-40b9-9dc2-293ea248895f",
   "metadata": {},
   "outputs": [
    {
     "name": "stdout",
     "output_type": "stream",
     "text": [
      "mode :  ModeResult(mode=4, count=6)\n"
     ]
    }
   ],
   "source": [
    "#mode\n",
    "import scipy.stats as stats \n",
    "arr = [1,2,2,4,4,4,4,4,4,3,3,3,3,55,50]\n",
    "mode = stats.mode(arr)\n",
    "print(\"mode : \", mode)"
   ]
  },
  {
   "cell_type": "code",
   "execution_count": 3,
   "id": "42e41306-08a7-4cea-a261-028c52befee8",
   "metadata": {},
   "outputs": [
    {
     "name": "stdout",
     "output_type": "stream",
     "text": [
      "max :  55\n"
     ]
    }
   ],
   "source": [
    "#max\n",
    "import scipy.stats as stats \n",
    "arr = [1,2,2,4,4,4,4,4,4,3,3,3,3,55,50]\n",
    "maximum_value = max(arr)\n",
    "print(\"max : \", maximum_value)"
   ]
  },
  {
   "cell_type": "code",
   "execution_count": 4,
   "id": "935d895a-53d5-458e-95f0-35c35910d3c6",
   "metadata": {},
   "outputs": [
    {
     "name": "stdout",
     "output_type": "stream",
     "text": [
      "min :  1\n"
     ]
    }
   ],
   "source": [
    "#min\n",
    "import scipy.stats as stats \n",
    "arr = [1,2,2,4,4,4,4,4,4,3,3,3,3,55,50]\n",
    "minimum_value = min(arr)\n",
    "print(\"min : \", minimum_value)"
   ]
  },
  {
   "cell_type": "code",
   "execution_count": 5,
   "id": "535b39a8-495d-42fd-8e39-1709f341fe21",
   "metadata": {},
   "outputs": [
    {
     "name": "stdout",
     "output_type": "stream",
     "text": [
      "range  :  54\n"
     ]
    }
   ],
   "source": [
    "#range \n",
    "import scipy.stats as stats \n",
    "arr = [1,2,2,4,4,4,4,4,4,3,3,3,3,55,50]\n",
    "range = max(arr) - min(arr)\n",
    "print(\"range  : \", range)"
   ]
  },
  {
   "cell_type": "code",
   "execution_count": 9,
   "id": "b13a5b96-617b-4bd9-a63c-1b4b16ebca7e",
   "metadata": {},
   "outputs": [
    {
     "name": "stdout",
     "output_type": "stream",
     "text": [
      "Variance: 303.2095238095238\n"
     ]
    }
   ],
   "source": [
    "#variance \n",
    "from scipy import stats\n",
    "arr = [1, 2, 2, 4, 4, 4, 4, 4, 4, 3, 3, 3, 3, 55, 50]\n",
    "variance = stats.tvar(arr)\n",
    "print(\"Variance:\", variance)"
   ]
  },
  {
   "cell_type": "code",
   "execution_count": 7,
   "id": "6f46b76b-f634-416f-8a4a-c65e0515ce27",
   "metadata": {},
   "outputs": [
    {
     "name": "stdout",
     "output_type": "stream",
     "text": [
      "Standard Deviation: 17.412912559635846\n"
     ]
    }
   ],
   "source": [
    "#standard deviation (square of range)\n",
    "from scipy import stats\n",
    "arr = [1, 2, 2, 4, 4, 4, 4, 4, 4, 3, 3, 3, 3, 55, 50]\n",
    "std_dev = stats.tstd(arr)\n",
    "print(\"Standard Deviation:\", std_dev)"
   ]
  }
 ],
 "metadata": {
  "kernelspec": {
   "display_name": "Python 3 (ipykernel)",
   "language": "python",
   "name": "python3"
  },
  "language_info": {
   "codemirror_mode": {
    "name": "ipython",
    "version": 3
   },
   "file_extension": ".py",
   "mimetype": "text/x-python",
   "name": "python",
   "nbconvert_exporter": "python",
   "pygments_lexer": "ipython3",
   "version": "3.12.7"
  }
 },
 "nbformat": 4,
 "nbformat_minor": 5
}
