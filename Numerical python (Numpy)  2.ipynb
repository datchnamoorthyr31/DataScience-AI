{
 "cells": [
  {
   "cell_type": "code",
   "execution_count": null,
   "id": "d2aac4d7-0058-4768-a528-ffe3f97c4d47",
   "metadata": {},
   "outputs": [],
   "source": [
    "#data types \n",
    "# i - integer\n",
    "# b - boolean\n",
    "# u - unsigned integer \n",
    "# f - float\n",
    "# c - complex float\n",
    "# s - string"
   ]
  },
  {
   "cell_type": "code",
   "execution_count": 1,
   "id": "4a141487-22db-4e02-8b53-b66df6a4fdfb",
   "metadata": {},
   "outputs": [
    {
     "name": "stdout",
     "output_type": "stream",
     "text": [
      "<class 'numpy.ndarray'>\n"
     ]
    }
   ],
   "source": [
    "import numpy as np\n",
    "a = np.array([2,4,6,8])\n",
    "print(type(a))"
   ]
  },
  {
   "cell_type": "code",
   "execution_count": 2,
   "id": "df9f6eaf-8f9f-45c8-9aa2-229646d5d34d",
   "metadata": {},
   "outputs": [
    {
     "name": "stdout",
     "output_type": "stream",
     "text": [
      "int32\n"
     ]
    }
   ],
   "source": [
    "print(a.dtype)"
   ]
  },
  {
   "cell_type": "code",
   "execution_count": 4,
   "id": "829eb4f2-d495-4b12-b639-76e4d6b8432d",
   "metadata": {},
   "outputs": [
    {
     "name": "stdout",
     "output_type": "stream",
     "text": [
      "<U8\n"
     ]
    }
   ],
   "source": [
    "b = np.array([\"raj\",\"kumar\",\"santhosh\"])\n",
    "print(b.dtype)\n",
    "#U : Represents a unicode string data type in numpy\n",
    "#3 : indicates the maximum length of each string in the array, interms of unicode characters."
   ]
  },
  {
   "cell_type": "code",
   "execution_count": 5,
   "id": "b0783650-8c93-457e-af7c-0a688bf1db7e",
   "metadata": {},
   "outputs": [
    {
     "name": "stdout",
     "output_type": "stream",
     "text": [
      "float64\n"
     ]
    }
   ],
   "source": [
    "c = np.array([3.2,4.7])\n",
    "print(c.dtype)"
   ]
  },
  {
   "cell_type": "code",
   "execution_count": 6,
   "id": "eeda478f-4cc5-494f-84bd-6b275f458735",
   "metadata": {},
   "outputs": [
    {
     "name": "stdout",
     "output_type": "stream",
     "text": [
      "complex128\n"
     ]
    }
   ],
   "source": [
    "e = np.array([1+2j])\n",
    "print(e.dtype)"
   ]
  },
  {
   "cell_type": "code",
   "execution_count": 7,
   "id": "9f4122a7-5de3-450b-8483-b8221942c753",
   "metadata": {},
   "outputs": [
    {
     "name": "stdout",
     "output_type": "stream",
     "text": [
      "int32\n"
     ]
    }
   ],
   "source": [
    "f = np.array([1,2,3,4])\n",
    "print(f.dtype)"
   ]
  },
  {
   "cell_type": "code",
   "execution_count": 10,
   "id": "83e60082-8777-4076-baea-7c8b3fe1a474",
   "metadata": {},
   "outputs": [
    {
     "name": "stdout",
     "output_type": "stream",
     "text": [
      "|S1\n"
     ]
    }
   ],
   "source": [
    "g = np.array([1,2,3,4],dtype = 'S')\n",
    "print(g.dtype) # byte string"
   ]
  },
  {
   "cell_type": "code",
   "execution_count": 15,
   "id": "4254cd27-d381-41e4-bfe5-58b5c743025e",
   "metadata": {},
   "outputs": [
    {
     "name": "stdout",
     "output_type": "stream",
     "text": [
      "[1 2 3 4]\n",
      "int64\n"
     ]
    }
   ],
   "source": [
    "# i8 mention size\n",
    "h = np.array([1, 2, 3, 4], dtype='i8')\n",
    "\n",
    "print(h)\n",
    "print(h.dtype)\n"
   ]
  },
  {
   "cell_type": "code",
   "execution_count": 16,
   "id": "973b50e4-c1ec-4255-86fa-0121b410c327",
   "metadata": {},
   "outputs": [
    {
     "ename": "ValueError",
     "evalue": "invalid literal for int() with base 10: 'a'",
     "output_type": "error",
     "traceback": [
      "\u001b[1;31m---------------------------------------------------------------------------\u001b[0m",
      "\u001b[1;31mValueError\u001b[0m                                Traceback (most recent call last)",
      "Cell \u001b[1;32mIn[16], line 1\u001b[0m\n\u001b[1;32m----> 1\u001b[0m i \u001b[38;5;241m=\u001b[39m np\u001b[38;5;241m.\u001b[39marray([\u001b[38;5;124m'\u001b[39m\u001b[38;5;124ma\u001b[39m\u001b[38;5;124m'\u001b[39m, \u001b[38;5;124m'\u001b[39m\u001b[38;5;124m2\u001b[39m\u001b[38;5;124m'\u001b[39m, \u001b[38;5;124m'\u001b[39m\u001b[38;5;124m3\u001b[39m\u001b[38;5;124m'\u001b[39m], dtype\u001b[38;5;241m=\u001b[39m\u001b[38;5;124m'\u001b[39m\u001b[38;5;124mi2\u001b[39m\u001b[38;5;124m'\u001b[39m)\n\u001b[0;32m      2\u001b[0m i\n",
      "\u001b[1;31mValueError\u001b[0m: invalid literal for int() with base 10: 'a'"
     ]
    }
   ],
   "source": [
    "# can't change integer \n",
    "i = np.array(['a', '2', '3'], dtype='i2')\n",
    "i"
   ]
  },
  {
   "cell_type": "code",
   "execution_count": 21,
   "id": "d94700a8-4d10-4e5f-ab53-7d727924657e",
   "metadata": {},
   "outputs": [
    {
     "name": "stdout",
     "output_type": "stream",
     "text": [
      "[b'a' b'jdk' b'33']\n",
      "|S3\n"
     ]
    }
   ],
   "source": [
    "a1 = np.array(['a', 'jdk', '33'], dtype='S')\n",
    "print(a1)\n",
    "print(a1.dtype)"
   ]
  },
  {
   "cell_type": "code",
   "execution_count": 22,
   "id": "5ae757bc-9bff-41da-a7a9-de389c994740",
   "metadata": {},
   "outputs": [
    {
     "name": "stdout",
     "output_type": "stream",
     "text": [
      "[1 2 3]\n",
      "int64\n"
     ]
    }
   ],
   "source": [
    "a2 = np.array(['1', '2', '3'], dtype='i8')\n",
    "print(a2)\n",
    "print(a2.dtype)"
   ]
  },
  {
   "cell_type": "code",
   "execution_count": 23,
   "id": "088dd647-d6bb-4bfe-ac3e-ceb552f7bc9c",
   "metadata": {},
   "outputs": [
    {
     "data": {
      "text/plain": [
       "array([b'1', b'2', b'3'], dtype='|S21')"
      ]
     },
     "execution_count": 23,
     "metadata": {},
     "output_type": "execute_result"
    }
   ],
   "source": [
    "b1=a2.astype(\"S\")\n",
    "b1"
   ]
  },
  {
   "cell_type": "code",
   "execution_count": 25,
   "id": "7e6d21f9-cebc-46ba-a7a6-e4d5bb119662",
   "metadata": {},
   "outputs": [
    {
     "name": "stdout",
     "output_type": "stream",
     "text": [
      "[1 2 3]\n",
      "int32\n"
     ]
    }
   ],
   "source": [
    "new = np.array([1.1, 2.1, 3.1])\n",
    "newarr = new.astype(int)\n",
    "print(newarr)\n",
    "print(newarr.dtype)"
   ]
  },
  {
   "cell_type": "code",
   "execution_count": 26,
   "id": "ebfd8170-7567-4f17-ad17-e85616902b4d",
   "metadata": {},
   "outputs": [
    {
     "name": "stdout",
     "output_type": "stream",
     "text": [
      "[1 2 3]\n",
      "int64\n"
     ]
    }
   ],
   "source": [
    "val1 = np.array([\"1\", \"2\", \"3\"])\n",
    "values = val1.astype(\"i8\")\n",
    "print(values)\n",
    "print(values.dtype)"
   ]
  },
  {
   "cell_type": "code",
   "execution_count": 28,
   "id": "f313273c-0dd1-420f-a658-82806bad9969",
   "metadata": {},
   "outputs": [
    {
     "name": "stdout",
     "output_type": "stream",
     "text": [
      "[ True  True  True]\n",
      "bool\n"
     ]
    }
   ],
   "source": [
    "val2 = np.array([1, 2, 3])\n",
    "values = val2.astype(bool)\n",
    "print(values)\n",
    "print(values.dtype)"
   ]
  },
  {
   "cell_type": "code",
   "execution_count": 30,
   "id": "f13d73b2-056c-4896-bcc2-b5fa97be7c97",
   "metadata": {},
   "outputs": [
    {
     "name": "stdout",
     "output_type": "stream",
     "text": [
      "[1 2 3 4]\n",
      "[23  2  3  4]\n"
     ]
    }
   ],
   "source": [
    "#copy and view \n",
    "import numpy as np\n",
    "a = np.array([1,2,3,4])\n",
    "x = a.copy()\n",
    "x[0] = 23\n",
    "print(a)\n",
    "print(x)"
   ]
  },
  {
   "cell_type": "code",
   "execution_count": 31,
   "id": "b07a6c36-3246-406d-a4d8-5451481c9283",
   "metadata": {},
   "outputs": [
    {
     "name": "stdout",
     "output_type": "stream",
     "text": [
      "[23  2  3  4]\n",
      "[23  2  3  4]\n"
     ]
    }
   ],
   "source": [
    "a = np.array([1,2,3,4])\n",
    "x = a.view()\n",
    "x[0] = 23\n",
    "print(a)\n",
    "print(x)"
   ]
  },
  {
   "cell_type": "code",
   "execution_count": 32,
   "id": "210ed74b-445a-4820-a883-403b13cf07fb",
   "metadata": {},
   "outputs": [
    {
     "name": "stdout",
     "output_type": "stream",
     "text": [
      "Addition: [[5 7 9]\n",
      " [2 4 6]]\n",
      "Subtraction: [[-3 -3 -3]\n",
      " [ 0  0  0]]\n",
      "Multiplication: [[ 4 10 18]\n",
      " [ 1  4  9]]\n",
      "Division: [[0.25 0.4  0.5 ]\n",
      " [1.   1.   1.  ]]\n"
     ]
    }
   ],
   "source": [
    "#numpy arthematic operations \n",
    "# Arrays\n",
    "a = np.array([[1, 2, 3],[1, 2, 3]])\n",
    "b = np.array([[4, 5, 6],[1, 2, 3]])\n",
    "\n",
    "# Operations\n",
    "addition = a + b         # [5, 7, 9]\n",
    "subtraction = a - b      # [-3, -3, -3]\n",
    "multiplication = a * b   # [4, 10, 18]\n",
    "division = a / b         # [0.25, 0.4, 0.5]\n",
    "\n",
    "print(\"Addition:\", addition)\n",
    "print(\"Subtraction:\", subtraction)\n",
    "print(\"Multiplication:\", multiplication)\n",
    "print(\"Division:\", division)"
   ]
  },
  {
   "cell_type": "code",
   "execution_count": 5,
   "id": "26869e77-3736-49ae-9298-b901e8478353",
   "metadata": {},
   "outputs": [
    {
     "name": "stdout",
     "output_type": "stream",
     "text": [
      "[1, 2, 3]\n",
      "[4, 5, 6]\n"
     ]
    }
   ],
   "source": [
    "val1 = [1,2,3]\n",
    "print(val1)\n",
    "val2 = [4,5,6]\n",
    "print(val2)\n",
    "val3 = list(zip(val1,val2))\n",
    "print(val3"
   ]
  },
  {
   "cell_type": "code",
   "execution_count": null,
   "id": "c5656751-8b19-4681-925d-9522fa4afb65",
   "metadata": {},
   "outputs": [],
   "source": []
  },
  {
   "cell_type": "code",
   "execution_count": null,
   "id": "42695a74-331b-46f7-9a3e-e2fb74e95f4a",
   "metadata": {},
   "outputs": [],
   "source": []
  }
 ],
 "metadata": {
  "kernelspec": {
   "display_name": "Python 3 (ipykernel)",
   "language": "python",
   "name": "python3"
  },
  "language_info": {
   "codemirror_mode": {
    "name": "ipython",
    "version": 3
   },
   "file_extension": ".py",
   "mimetype": "text/x-python",
   "name": "python",
   "nbconvert_exporter": "python",
   "pygments_lexer": "ipython3",
   "version": "3.12.7"
  }
 },
 "nbformat": 4,
 "nbformat_minor": 5
}
